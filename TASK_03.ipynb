{
 "cells": [
  {
   "cell_type": "code",
   "execution_count": null,
   "id": "fa1df0e7-20b3-48df-b3e0-a11bce25f729",
   "metadata": {},
   "outputs": [],
   "source": [
    "import cv2\n",
    "import face_recognition\n",
    "import os\n",
    "import numpy as np\n",
    "from datetime import datetime"
   ]
  },
  {
   "cell_type": "code",
   "execution_count": null,
   "id": "cf3f1a05-9ce7-4b82-936a-86ea555b8885",
   "metadata": {},
   "outputs": [],
   "source": [
    "path = \"C:/Users/DEEP/Desktop/TXON/trainingset\"\n",
    "images = []\n",
    "classNames = mylist = os.listdir(path)\n",
    "for cl in mylist:\n",
    "    curImg = cv2.imread(f'{path}/{cl}')\n",
    "    images.append(curImg)\n",
    "    classNames.append(os.path.splitext(cl)[0])"
   ]
  },
  {
   "cell_type": "code",
   "execution_count": null,
   "id": "ab1f386f-6c40-45ec-ad3f-04753054d67c",
   "metadata": {},
   "outputs": [],
   "source": [
    "def findEncodings(images):\n",
    "    encodeList = []\n",
    "    for img in images:\n",
    "        img = cv2.cvtColor(img, cv2.COLOR_BGR2RGB)\n",
    "        encoded_face = face_recognition.face_encodings(img)[0]\n",
    "        encodeList.append(encoded_face)\n",
    "    return encodeList\n",
    "encoded_face_train = findEncodings(images)"
   ]
  },
  {
   "cell_type": "code",
   "execution_count": null,
   "id": "6384a95a-22f7-49b8-be02-a4919b4c4a89",
   "metadata": {},
   "outputs": [],
   "source": [
    "def markAttendance(name):\n",
    "    with open(\"C:/Users/DEEP/Desktop/TXON/Attendance.csv\",'r+') as f:\n",
    "        myDataList = f.readlines()\n",
    "        nameList = []\n",
    "        for line in myDataList:\n",
    "            entry = line.split(',')\n",
    "            nameList.append(entry[0])\n",
    "        if name not in nameList:\n",
    "            now = datetime.now()\n",
    "            time = now.strftime('%H:%M:%S')\n",
    "            date = now.strftime('%D-%M-%Y')\n",
    "            f.writelines(f'n{name}, {time}, {date}')"
   ]
  },
  {
   "cell_type": "code",
   "execution_count": 1,
   "id": "b4a6b533-21b6-42f9-8266-13a7699b3b71",
   "metadata": {
    "tags": []
   },
   "outputs": [
    {
     "ename": "NameError",
     "evalue": "name 'encoded_face_train' is not defined",
     "output_type": "error",
     "traceback": [
      "\u001b[1;31m---------------------------------------------------------------------------\u001b[0m",
      "\u001b[1;31mNameError\u001b[0m                                 Traceback (most recent call last)",
      "Cell \u001b[1;32mIn[1], line 15\u001b[0m\n\u001b[0;32m     12\u001b[0m encoded_faces \u001b[38;5;241m=\u001b[39m face_recognition\u001b[38;5;241m.\u001b[39mface_encodings(imgS, faces_in_frame)\n\u001b[0;32m     14\u001b[0m \u001b[38;5;28;01mfor\u001b[39;00m encode_face, faceloc \u001b[38;5;129;01min\u001b[39;00m \u001b[38;5;28mzip\u001b[39m(encoded_faces,faces_in_frame):\n\u001b[1;32m---> 15\u001b[0m     matches \u001b[38;5;241m=\u001b[39m face_recognition\u001b[38;5;241m.\u001b[39mcompare_faces(\u001b[43mencoded_face_train\u001b[49m, encode_face)\n\u001b[0;32m     16\u001b[0m     faceDist \u001b[38;5;241m=\u001b[39m face_recognition\u001b[38;5;241m.\u001b[39mface_distance(encoded_face_train, encode_face)\n\u001b[0;32m     17\u001b[0m     \u001b[38;5;28mprint\u001b[39m(faceDist)\n",
      "\u001b[1;31mNameError\u001b[0m: name 'encoded_face_train' is not defined"
     ]
    }
   ],
   "source": [
    "# take pictures from webcam \n",
    "import cv2\n",
    "import face_recognition\n",
    "cap  = cv2.VideoCapture(0)\n",
    "\n",
    "while True:\n",
    "    success, img = cap.read()\n",
    "    imgS = cv2.resize(img, (0,0), None, 0.25,0.25)\n",
    "    imgS = cv2.cvtColor(imgS, cv2.COLOR_BGR2RGB)\n",
    "    \n",
    "    faces_in_frame = face_recognition.face_locations(imgS)\n",
    "    encoded_faces = face_recognition.face_encodings(imgS, faces_in_frame)\n",
    "    \n",
    "    for encode_face, faceloc in zip(encoded_faces,faces_in_frame):\n",
    "        matches = face_recognition.compare_faces(encoded_face_train, encode_face)\n",
    "        faceDist = face_recognition.face_distance(encoded_face_train, encode_face)\n",
    "        print(faceDist)\n",
    "        matchIndex = np.argmin(faceDist)\n",
    "        print(matchIndex)\n",
    "        \n",
    "        if matches[matchIndex]:\n",
    "            name = classNames[matchIndex].upper().lower()\n",
    "            print(name)\n",
    "            y1,x2,y2,x1 = faceloc\n",
    "            \n",
    "            # since we scaled down by 4 times\n",
    "            y1, x2,y2,x1 = y1*4,x2*4,y2*4,x1*4\n",
    "            cv2.rectangle(img,(x1,y1),(x2,y2),(0,255,0),2)\n",
    "            cv2.rectangle(img, (x1,y2-35),(x2,y2), (0,255,0), cv2.FILLED)\n",
    "            cv2.putText(img,name, (x1+6,y2-5), cv2.FONT_HERSHEY_COMPLEX,1,(255,255,255),2)\n",
    "            markAttendance(name)\n",
    "    cv2.imshow('webcam', img)\n",
    "    if cv2.waitKey(1) & 0xFF == ord('q'):\n",
    "        break"
   ]
  },
  {
   "cell_type": "code",
   "execution_count": null,
   "id": "c462a731-67e5-4e0e-b334-9dc2959278e4",
   "metadata": {},
   "outputs": [],
   "source": []
  }
 ],
 "metadata": {
  "kernelspec": {
   "display_name": "Python 3 (ipykernel)",
   "language": "python",
   "name": "python3"
  },
  "language_info": {
   "codemirror_mode": {
    "name": "ipython",
    "version": 3
   },
   "file_extension": ".py",
   "mimetype": "text/x-python",
   "name": "python",
   "nbconvert_exporter": "python",
   "pygments_lexer": "ipython3",
   "version": "3.8.5"
  }
 },
 "nbformat": 4,
 "nbformat_minor": 5
}
